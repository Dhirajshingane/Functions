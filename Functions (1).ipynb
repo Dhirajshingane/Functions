{
  "nbformat": 4,
  "nbformat_minor": 0,
  "metadata": {
    "colab": {
      "provenance": []
    },
    "kernelspec": {
      "name": "python3",
      "display_name": "Python 3"
    },
    "language_info": {
      "name": "python"
    }
  },
  "cells": [
    {
      "cell_type": "markdown",
      "source": [
        "# functions\n"
      ],
      "metadata": {
        "id": "b9bv-SMlhZjv"
      }
    },
    {
      "cell_type": "markdown",
      "source": [
        "1. what is a pythan ?\n",
        "    -> bjajjbjb\n",
        "\n",
        "\n",
        "2. this is a row answer of first question\n",
        "    -> jbjdbwjj\n",
        "    "
      ],
      "metadata": {
        "id": "VgirfR7yhYQz"
      }
    }
  ]
}